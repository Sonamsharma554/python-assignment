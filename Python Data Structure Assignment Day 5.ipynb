{
 "cells": [
  {
   "cell_type": "markdown",
   "metadata": {
    "id": "jGxqF4aIjNSq"
   },
   "source": [
    "<a id='1'></a><center> <h3 style=\"background-color:orange; color:white\" ><br>Python Data Structures<br></h3>"
   ]
  },
  {
   "cell_type": "markdown",
   "metadata": {},
   "source": [
    "# `Types of Data Structures:`\n",
    "* `List` | `Tuple`\n",
    "* `Set` | `Dictionary`"
   ]
  },
  {
   "cell_type": "markdown",
   "metadata": {},
   "source": [
    "|Data Structures type|Mutable|Comments|Indexing|Ordered|Duplicacy|\n",
    "|----|----|----|----|----|----|\n",
    "tuple ()|immutable|immutable version of list| possible|yes |allowed |\n",
    "list []|mutable|-|possible |yes | allowed |\n",
    "set {}|mutable| -|not |no |not |\n",
    "dict {key:value}|mutable|-|possible |no |not  |"
   ]
  },
  {
   "cell_type": "markdown",
   "metadata": {},
   "source": [
    "💫 `immutable` => `can't be changed` <br>\n",
    "💫 `mutable` => `can be changed`"
   ]
  },
  {
   "cell_type": "code",
   "execution_count": null,
   "metadata": {},
   "outputs": [],
   "source": []
  },
  {
   "cell_type": "markdown",
   "metadata": {
    "id": "Tyavi31ZjNSw"
   },
   "source": [
    "## Lists\n",
    "\n"
   ]
  },
  {
   "cell_type": "markdown",
   "metadata": {
    "id": "tkDQdRdUjNSy"
   },
   "source": [
    "### Create an empty list with the name ‘a’, print the value of a and type(a).\n"
   ]
  },
  {
   "cell_type": "code",
   "execution_count": 5,
   "metadata": {
    "id": "a6i4yNGvjNSz"
   },
   "outputs": [
    {
     "name": "stdout",
     "output_type": "stream",
     "text": [
      "Value of a: []\n",
      "Type of a: <class 'list'>\n"
     ]
    }
   ],
   "source": [
    "# Creating an empty list\n",
    "a = []\n",
    "\n",
    "# Printing the value of a\n",
    "print(\"Value of a:\", a)\n",
    "\n",
    "# Printing the type of a\n",
    "print(\"Type of a:\", type(a))\n",
    "\n"
   ]
  },
  {
   "cell_type": "code",
   "execution_count": 9,
   "metadata": {
    "id": "M8FMNQEgjNS0",
    "outputId": "e614518d-cd99-4602-c082-7fcc1f9a0e3a"
   },
   "outputs": [
    {
     "name": "stdout",
     "output_type": "stream",
     "text": [
      "Value of a: []\n"
     ]
    }
   ],
   "source": [
    "# print the value of a\n",
    "a = []\n",
    "print(\"Value of a:\", a)\n",
    "\n"
   ]
  },
  {
   "cell_type": "code",
   "execution_count": 12,
   "metadata": {
    "id": "Jfc9sg1vjNS1",
    "outputId": "462464e7-25c1-4a23-80cb-f8c6cf93fb18"
   },
   "outputs": [
    {
     "name": "stdout",
     "output_type": "stream",
     "text": [
      "type of a: <class 'list'>\n"
     ]
    }
   ],
   "source": [
    "# print the type of a\n",
    "a =[]\n",
    "print(\"type of a:\",type(a))"
   ]
  },
  {
   "cell_type": "markdown",
   "metadata": {
    "id": "UNpN9_w4jNS1"
   },
   "source": [
    "### Create a list , languages = ['R','Python', 'SAS', 'Scala', 42], "
   ]
  },
  {
   "cell_type": "code",
   "execution_count": 14,
   "metadata": {
    "id": "x-TG-vc5jNS2"
   },
   "outputs": [
    {
     "name": "stdout",
     "output_type": "stream",
     "text": [
      "(1, 2, 3, 4, 5)\n"
     ]
    }
   ],
   "source": [
    "my_list = (1,2,3,4,5) # create a list in python\n",
    "print (my_list)"
   ]
  },
  {
   "cell_type": "markdown",
   "metadata": {
    "id": "JDSIK8TbjNS3"
   },
   "source": [
    "Print the number of elements in the list"
   ]
  },
  {
   "cell_type": "code",
   "execution_count": 16,
   "metadata": {
    "id": "C4lBMaM8jNS3",
    "outputId": "8f553c2e-3d4f-4a3c-ddb3-49b32c4d6fce"
   },
   "outputs": [
    {
     "name": "stdout",
     "output_type": "stream",
     "text": [
      "5\n"
     ]
    }
   ],
   "source": [
    "my_list = [1, 2, 3, 4, 5]  # Create a list\n",
    "print(len(my_list))  # Print the number of elements in the list\n"
   ]
  },
  {
   "cell_type": "markdown",
   "metadata": {
    "id": "EyzO_pcnjNS3"
   },
   "source": [
    "Using for loop iterate and print all the elements in the list"
   ]
  },
  {
   "cell_type": "code",
   "execution_count": 18,
   "metadata": {
    "id": "TyM54ydsjNS4",
    "outputId": "a83aecf6-2a59-4d56-ee29-d0c3f0711bc4"
   },
   "outputs": [
    {
     "name": "stdout",
     "output_type": "stream",
     "text": [
      "1\n",
      "2\n",
      "3\n",
      "4\n",
      "5\n"
     ]
    }
   ],
   "source": [
    "my_list = [1, 2, 3, 4, 5]\n",
    "\n",
    "for item in my_list:\n",
    "    print(item)\n",
    "\n",
    "\n"
   ]
  },
  {
   "cell_type": "markdown",
   "metadata": {
    "id": "eC1fqz9LjNS4"
   },
   "source": [
    "Select the second item, 'Python' and store it in a new variable named 'temp'"
   ]
  },
  {
   "cell_type": "code",
   "execution_count": 20,
   "metadata": {
    "id": "KY0KhRlOjNS4"
   },
   "outputs": [
    {
     "name": "stdout",
     "output_type": "stream",
     "text": [
      "2\n"
     ]
    }
   ],
   "source": [
    "my_list = [1, 2, 3, 4, 5]\n",
    "\n",
    "temp = my_list[1]  # Indexing starts at 0, so index 1 is the second item\n",
    "print(temp)\n"
   ]
  },
  {
   "cell_type": "markdown",
   "metadata": {
    "id": "breORMa_jNS4"
   },
   "source": [
    "Print the value of temp and type(temp)"
   ]
  },
  {
   "cell_type": "code",
   "execution_count": 22,
   "metadata": {
    "id": "MbvX2aIgjNS5",
    "outputId": "f8ec4c46-26d8-4822-c3c7-b18a6cc7f149"
   },
   "outputs": [
    {
     "name": "stdout",
     "output_type": "stream",
     "text": [
      "2\n",
      "<class 'int'>\n"
     ]
    }
   ],
   "source": [
    "\n",
    "my_list = [1, 2, 3, 4, 5]\n",
    "\n",
    "temp = my_list[1]  # Second item\n",
    "print(temp)        # Print the value\n",
    "print(type(temp))  # Print the type of temp\n",
    "\n"
   ]
  },
  {
   "cell_type": "markdown",
   "metadata": {
    "id": "I4MrKlAUjNS5"
   },
   "source": [
    "Append the element 'Java' in the list"
   ]
  },
  {
   "cell_type": "code",
   "execution_count": 24,
   "metadata": {
    "id": "rOtqZY6PjNS6"
   },
   "outputs": [
    {
     "name": "stdout",
     "output_type": "stream",
     "text": [
      "[1, 2, 3, 4, 5, 'java']\n"
     ]
    }
   ],
   "source": [
    "\n",
    "my_list = [1, 2, 3, 4, 5]\n",
    "\n",
    "my_list.append(\"java\")  # Append \"java\" to the list\n",
    "print(my_list)\n"
   ]
  },
  {
   "cell_type": "markdown",
   "metadata": {
    "id": "ksEn8qvFjNS6"
   },
   "source": [
    "Remove the element 42 from the list and print the list"
   ]
  },
  {
   "cell_type": "code",
   "execution_count": 26,
   "metadata": {
    "id": "Lxuzfc1bjNS6",
    "outputId": "71e5abaf-0020-44d5-af96-9b6f832ce001"
   },
   "outputs": [
    {
     "name": "stdout",
     "output_type": "stream",
     "text": [
      "[1, 2, 3, 4, 5, 'java']\n"
     ]
    }
   ],
   "source": [
    "\n",
    "my_list = [1, 2, 3, 42, 4, 5, 'java']\n",
    "\n",
    "my_list.remove(42)  # Remove the element 42\n",
    "print(my_list)\n",
    "\n"
   ]
  },
  {
   "cell_type": "markdown",
   "metadata": {
    "id": "19MjI0w6jNS6"
   },
   "source": [
    "### Create a list, colors = [‘Red’, ‘Blue’, ‘White’]"
   ]
  },
  {
   "cell_type": "code",
   "execution_count": 28,
   "metadata": {
    "id": "Z1lMzdbWjNS7"
   },
   "outputs": [
    {
     "name": "stdout",
     "output_type": "stream",
     "text": [
      "['red', 'blue', 'white']\n"
     ]
    }
   ],
   "source": [
    "colour = [\"red\", \"blue\", \"white\"]\n",
    "print(colour)\n"
   ]
  },
  {
   "cell_type": "markdown",
   "metadata": {
    "id": "VAqLj5R3jNS7"
   },
   "source": [
    "Append the element 'Black' to colors"
   ]
  },
  {
   "cell_type": "code",
   "execution_count": 30,
   "metadata": {
    "id": "gvb5iC7ljNS7"
   },
   "outputs": [
    {
     "name": "stdout",
     "output_type": "stream",
     "text": [
      "['red', 'blue', 'white', 'black']\n"
     ]
    }
   ],
   "source": [
    "\n",
    "colour = [\"red\", \"blue\", \"white\"]\n",
    "\n",
    "colour.append(\"black\")  # Append 'black' to the list\n",
    "print(colour)\n",
    "\n"
   ]
  },
  {
   "cell_type": "markdown",
   "metadata": {
    "id": "MFWIzVcvjNS7"
   },
   "source": [
    "Append the color 'Orange' to second position (index=1) and print the list"
   ]
  },
  {
   "cell_type": "code",
   "execution_count": 32,
   "metadata": {
    "id": "Fb6YZDSNjNS8"
   },
   "outputs": [
    {
     "name": "stdout",
     "output_type": "stream",
     "text": [
      "['red', 'orange', 'blue', 'white', 'black']\n"
     ]
    }
   ],
   "source": [
    "\n",
    "colour = [\"red\", \"blue\", \"white\", \"black\"]\n",
    "\n",
    "colour.insert(1, \"orange\")  # Insert 'orange' at index 1\n",
    "print(colour)\n",
    "\n"
   ]
  },
  {
   "cell_type": "markdown",
   "metadata": {
    "id": "8DWB76AOjNS8"
   },
   "source": [
    "Print the list\n"
   ]
  },
  {
   "cell_type": "code",
   "execution_count": 34,
   "metadata": {
    "id": "0ldkGCozjNS8",
    "outputId": "0a5cb8e4-f656-4122-b50a-e7716ef09086"
   },
   "outputs": [
    {
     "name": "stdout",
     "output_type": "stream",
     "text": [
      "['red,orange,blue,white,black']\n"
     ]
    }
   ],
   "source": [
    "colour =['red,orange,blue,white,black']\n",
    "print(colour)"
   ]
  },
  {
   "cell_type": "markdown",
   "metadata": {
    "id": "WfFfxvLKjNS8"
   },
   "source": [
    "Create another list, colors2 = [‘Grey’, ‘Sky Blue’]"
   ]
  },
  {
   "cell_type": "code",
   "execution_count": 37,
   "metadata": {
    "id": "onZEiwdUjNS8"
   },
   "outputs": [
    {
     "name": "stdout",
     "output_type": "stream",
     "text": [
      "['grey,sky,blue']\n"
     ]
    }
   ],
   "source": [
    "colour2 = ['grey,sky,blue']\n",
    "print (colour2)"
   ]
  },
  {
   "cell_type": "markdown",
   "metadata": {
    "id": "MrNQk6uKjNS8"
   },
   "source": [
    "Add the elements of colors2 to colors using extend function in the list"
   ]
  },
  {
   "cell_type": "code",
   "execution_count": 39,
   "metadata": {
    "id": "Hr1Eu88OjNS9"
   },
   "outputs": [
    {
     "name": "stdout",
     "output_type": "stream",
     "text": [
      "['red', 'orange', 'blue', 'white', 'black', 'grey', 'sky', 'blue']\n"
     ]
    }
   ],
   "source": [
    "colour = ['red', 'orange', 'blue', 'white', 'black']\n",
    "colour2 = ['grey', 'sky', 'blue']\n",
    "\n",
    "colour.extend(colour2)  # Add elements of colour2 to colour\n",
    "print(colour)\n"
   ]
  },
  {
   "cell_type": "markdown",
   "metadata": {
    "id": "u0KDeU20jNS9"
   },
   "source": [
    "Print len of colors and its elements"
   ]
  },
  {
   "cell_type": "code",
   "execution_count": 41,
   "metadata": {
    "id": "bnBmsCg2jNS9",
    "outputId": "f126519a-bafd-4438-fe21-af7586b5740d"
   },
   "outputs": [
    {
     "name": "stdout",
     "output_type": "stream",
     "text": [
      "Length of colour list: 8\n",
      "Elements in the colour list: ['red', 'orange', 'blue', 'white', 'black', 'grey', 'sky', 'blue']\n"
     ]
    }
   ],
   "source": [
    "\n",
    "\n",
    "colour = ['red', 'orange', 'blue', 'white', 'black', 'grey', 'sky', 'blue']\n",
    "\n",
    "# Print the length of the list\n",
    "print(\"Length of colour list:\", len(colour))\n",
    "\n",
    "# Print all the elements in the list\n",
    "print(\"Elements in the colour list:\", colour)\n"
   ]
  },
  {
   "cell_type": "markdown",
   "metadata": {
    "id": "vJ7YqokSjNS9"
   },
   "source": [
    "Sort the list and print it."
   ]
  },
  {
   "cell_type": "code",
   "execution_count": 43,
   "metadata": {
    "id": "X14C-1PtjNS9",
    "outputId": "02524dae-3592-47e2-98b0-77501aa15b64"
   },
   "outputs": [
    {
     "name": "stdout",
     "output_type": "stream",
     "text": [
      "Sorted colour list: ['black', 'blue', 'blue', 'grey', 'orange', 'red', 'sky', 'white']\n"
     ]
    }
   ],
   "source": [
    "\n",
    "colour = ['red', 'orange', 'blue', 'white', 'black', 'grey', 'sky', 'blue']\n",
    "\n",
    "colour.sort()  # Sort the list in ascending order\n",
    "print(\"Sorted colour list:\", colour)\n",
    "\n"
   ]
  },
  {
   "cell_type": "markdown",
   "metadata": {
    "id": "MdN5B9F9jNS-"
   },
   "source": [
    "### Create a string, sent = ‘Coronavirus Caused Lockdowns Around The World.”"
   ]
  },
  {
   "cell_type": "code",
   "execution_count": 45,
   "metadata": {
    "id": "j4JUR085jNS-"
   },
   "outputs": [
    {
     "name": "stdout",
     "output_type": "stream",
     "text": [
      "coronavirus caused lockdown around the world\n"
     ]
    }
   ],
   "source": [
    "sent = \"coronavirus caused lockdown around the world\"\n",
    "print(sent)\n"
   ]
  },
  {
   "cell_type": "markdown",
   "metadata": {
    "id": "rcn18drOjNS-"
   },
   "source": [
    "Use split function to convert the string into a list of words and save it in variable words and print the same"
   ]
  },
  {
   "cell_type": "code",
   "execution_count": 1,
   "metadata": {
    "id": "fjiKSboajNS-",
    "outputId": "b6bfb22e-147a-4d90-9428-d321d9824589"
   },
   "outputs": [
    {
     "name": "stdout",
     "output_type": "stream",
     "text": [
      "['coronavirus', 'caused', 'lockdown', 'around', 'the', 'world']\n"
     ]
    }
   ],
   "source": [
    "\n",
    "sent = \"coronavirus caused lockdown around the world\"\n",
    "\n",
    "words = sent.split()  # Split the string by spaces\n",
    "print(words)\n",
    "\n"
   ]
  },
  {
   "cell_type": "markdown",
   "metadata": {
    "id": "zznwP-l9jNS_"
   },
   "source": [
    "Check whether ‘country’ is in the list"
   ]
  },
  {
   "cell_type": "code",
   "execution_count": 3,
   "metadata": {
    "id": "y-U1felnjNS_",
    "outputId": "1e5fb9dd-4add-4438-97da-60db75ce0fce"
   },
   "outputs": [
    {
     "name": "stdout",
     "output_type": "stream",
     "text": [
      "No, 'country' is not in the list.\n"
     ]
    }
   ],
   "source": [
    "sent = \"coronavirus caused lockdown around the world\"\n",
    "words = sent.split()\n",
    "\n",
    "if \"country\" in words:\n",
    "    print(\"Yes, 'country' is in the list.\")\n",
    "else:\n",
    "    print(\"No, 'country' is not in the list.\")\n"
   ]
  },
  {
   "cell_type": "markdown",
   "metadata": {
    "id": "AZMvSVKWjNS_"
   },
   "source": [
    "Remove the element ‘the’ from the list and print the list."
   ]
  },
  {
   "cell_type": "code",
   "execution_count": 5,
   "metadata": {
    "id": "bmDbpYd7jNS_",
    "outputId": "e96ddeed-af03-4d0c-a7dd-6c7a716e349a"
   },
   "outputs": [
    {
     "name": "stdout",
     "output_type": "stream",
     "text": [
      "['coronavirus', 'caused', 'lockdown', 'around', 'world']\n"
     ]
    }
   ],
   "source": [
    "\n",
    "sent = \"coronavirus caused lockdown around the world\"\n",
    "words = sent.split()\n",
    "\n",
    "words.remove(\"the\")  # Remove 'the' from the list\n",
    "print(words)\n",
    "\n"
   ]
  },
  {
   "cell_type": "markdown",
   "metadata": {
    "id": "int3gJc0jNS_"
   },
   "source": [
    "Select the first 4 words from the list words_lower using slicing and store them in a new variable x4"
   ]
  },
  {
   "cell_type": "code",
   "execution_count": 7,
   "metadata": {
    "id": "fXOJmYI1jNTA"
   },
   "outputs": [
    {
     "name": "stdout",
     "output_type": "stream",
     "text": [
      "['coronavirus', 'caused', 'lockdown', 'around']\n"
     ]
    }
   ],
   "source": [
    "sent = \"coronavirus caused lockdown around the world\"\n",
    "words_lower = sent.split()\n",
    "\n",
    "first_four_words = words_lower[:4]  # Slicing: first 4 words\n",
    "print(first_four_words)\n"
   ]
  },
  {
   "cell_type": "markdown",
   "metadata": {
    "id": "3HgP3nUmjNTA"
   },
   "source": [
    "Convert the list of elements to single string using join function and print it"
   ]
  },
  {
   "cell_type": "code",
   "execution_count": 9,
   "metadata": {
    "id": "hiXO7ekhjNTA",
    "outputId": "db0f6673-174f-4bee-f6c5-c7e7d4f4612b"
   },
   "outputs": [
    {
     "name": "stdout",
     "output_type": "stream",
     "text": [
      "coronavirus caused lockdown around\n"
     ]
    }
   ],
   "source": [
    "\n",
    "first_four_words = ['coronavirus', 'caused', 'lockdown', 'around']\n",
    "\n",
    "sentence = \" \".join(first_four_words)  # Join list elements with a space\n",
    "print(sentence)\n"
   ]
  },
  {
   "cell_type": "markdown",
   "metadata": {
    "id": "tW6We_kvjNTA"
   },
   "source": [
    "## Sets"
   ]
  },
  {
   "cell_type": "markdown",
   "metadata": {
    "id": "02qkte5xjNTA"
   },
   "source": [
    "### Create stud_grades = ['A','A','B','C','C','F']"
   ]
  },
  {
   "cell_type": "code",
   "execution_count": 10,
   "metadata": {
    "id": "M5P_qZaTjNTB"
   },
   "outputs": [
    {
     "name": "stdout",
     "output_type": "stream",
     "text": [
      "{'F', 'A', 'C', 'B'}\n"
     ]
    }
   ],
   "source": [
    "stud_grades = {\"A\", \"A\", \"B\", \"C\", \"C\", \"F\"}\n",
    "print(stud_grades)\n"
   ]
  },
  {
   "cell_type": "markdown",
   "metadata": {
    "id": "XazCnMcBjNTB"
   },
   "source": [
    "Print the len of stud_grades"
   ]
  },
  {
   "cell_type": "code",
   "execution_count": 11,
   "metadata": {
    "id": "gMMJN-V5jNTB",
    "outputId": "ae1dee90-d009-4230-b7ae-8ea1ee32cbfa"
   },
   "outputs": [
    {
     "name": "stdout",
     "output_type": "stream",
     "text": [
      "Length of stud_grades: 4\n"
     ]
    }
   ],
   "source": [
    "\n",
    "\n",
    "stud_grades = {\"A\", \"A\", \"B\", \"C\", \"C\", \"F\"}\n",
    "\n",
    "print(\"Length of stud_grades:\", len(stud_grades))\n"
   ]
  },
  {
   "cell_type": "markdown",
   "metadata": {
    "id": "ALm7hstGjNTB"
   },
   "source": [
    "Create a new variable, stud_grades_set = set(stud_grades)"
   ]
  },
  {
   "cell_type": "code",
   "execution_count": 12,
   "metadata": {},
   "outputs": [
    {
     "name": "stdout",
     "output_type": "stream",
     "text": [
      "{'C', 'F', 'A', 'B'}\n"
     ]
    }
   ],
   "source": [
    "stud_grades = [\"A\", \"A\", \"B\", \"C\", \"C\", \"F\"]\n",
    "\n",
    "stud_grades_set = set(stud_grades)  # Convert to set\n",
    "print(stud_grades_set)\n"
   ]
  },
  {
   "cell_type": "markdown",
   "metadata": {
    "id": "JJESkQiJjNTB"
   },
   "source": [
    "Print stud_grades_set. "
   ]
  },
  {
   "cell_type": "code",
   "execution_count": 13,
   "metadata": {
    "id": "Q-daiiLPjNTB",
    "outputId": "9b37d1b8-7765-4564-f706-a4f9482b7368"
   },
   "outputs": [
    {
     "name": "stdout",
     "output_type": "stream",
     "text": [
      "Student Grades Set: {'C', 'F', 'A', 'B'}\n"
     ]
    }
   ],
   "source": [
    "\n",
    "\n",
    "stud_grades = [\"A\", \"A\", \"B\", \"C\", \"C\", \"F\"]\n",
    "stud_grades_set = set(stud_grades)\n",
    "\n",
    "print(\"Student Grades Set:\", stud_grades_set)\n"
   ]
  },
  {
   "cell_type": "markdown",
   "metadata": {
    "id": "hNeCPwPOjNTC"
   },
   "source": [
    "print the type of stud_grades and stud_grades_set and print their corresponding elements. Try to understand the difference between them."
   ]
  },
  {
   "cell_type": "code",
   "execution_count": 14,
   "metadata": {
    "id": "g7cntC0ojNTC",
    "outputId": "881a71e0-fd7e-4a3e-c340-95b6e736255a"
   },
   "outputs": [
    {
     "name": "stdout",
     "output_type": "stream",
     "text": [
      "Type of stud_grades: <class 'list'>\n",
      "Elements of stud_grades: ['A', 'A', 'B', 'C', 'C', 'F']\n",
      "Type of stud_grades_set: <class 'set'>\n",
      "Elements of stud_grades_set: {'C', 'F', 'A', 'B'}\n"
     ]
    }
   ],
   "source": [
    "\n",
    "\n",
    "# stud_grades is a list with duplicate values\n",
    "stud_grades = [\"A\", \"A\", \"B\", \"C\", \"C\", \"F\"]\n",
    "\n",
    "# stud_grades_set is a set with unique values\n",
    "stud_grades_set = set(stud_grades)\n",
    "\n",
    "# Print type and elements\n",
    "print(\"Type of stud_grades:\", type(stud_grades))\n",
    "print(\"Elements of stud_grades:\", stud_grades)\n",
    "\n",
    "print(\"Type of stud_grades_set:\", type(stud_grades_set))\n",
    "print(\"Elements of stud_grades_set:\", stud_grades_set)\n",
    "\n"
   ]
  },
  {
   "cell_type": "markdown",
   "metadata": {
    "id": "WjzzJX8yjNTC"
   },
   "source": [
    "Add a new element ‘G’ to stud_grades_set"
   ]
  },
  {
   "cell_type": "code",
   "execution_count": 15,
   "metadata": {
    "id": "y80DVAlRjNTC"
   },
   "outputs": [
    {
     "name": "stdout",
     "output_type": "stream",
     "text": [
      "Updated stud_grades_set: {'A', 'B', 'F', 'C', 'G'}\n"
     ]
    }
   ],
   "source": [
    "\n",
    "stud_grades = [\"A\", \"A\", \"B\", \"C\", \"C\", \"F\"]\n",
    "stud_grades_set = set(stud_grades)\n",
    "\n",
    "stud_grades_set.add(\"G\")  # Add new element\n",
    "print(\"Updated stud_grades_set:\", stud_grades_set)\n"
   ]
  },
  {
   "cell_type": "markdown",
   "metadata": {
    "id": "4TO9zhSJjNTC"
   },
   "source": [
    "Add element 'F' to stud_grades_set. and print it."
   ]
  },
  {
   "cell_type": "code",
   "execution_count": 16,
   "metadata": {
    "id": "Bh4tc1zCjNTC",
    "outputId": "67cdce79-7542-4536-8824-7c3f08855f76"
   },
   "outputs": [
    {
     "name": "stdout",
     "output_type": "stream",
     "text": [
      "Updated stud_grades_set: {'C', 'F', 'A', 'B'}\n"
     ]
    }
   ],
   "source": [
    "\n",
    "\n",
    "stud_grades = [\"A\", \"A\", \"B\", \"C\", \"C\", \"F\"]\n",
    "stud_grades_set = set(stud_grades)\n",
    "\n",
    "stud_grades_set.add(\"F\")  # Try to add 'F' again\n",
    "print(\"Updated stud_grades_set:\", stud_grades_set)\n"
   ]
  },
  {
   "cell_type": "markdown",
   "metadata": {
    "id": "FSgM3DD5jNTD"
   },
   "source": [
    "!!Did you notice? set doesn't add an element if it's already present in it, unlike lists."
   ]
  },
  {
   "cell_type": "markdown",
   "metadata": {
    "id": "tqz1GBM5jNTD"
   },
   "source": [
    "Remove ‘F’ from stud_grades_set"
   ]
  },
  {
   "cell_type": "code",
   "execution_count": 17,
   "metadata": {
    "id": "zOLBDdk0jNTD"
   },
   "outputs": [
    {
     "name": "stdout",
     "output_type": "stream",
     "text": [
      "Updated stud_grades_set: {'C', 'A', 'B'}\n"
     ]
    }
   ],
   "source": [
    "\n",
    "stud_grades = [\"A\", \"A\", \"B\", \"C\", \"C\", \"F\"]\n",
    "stud_grades_set = set(stud_grades)\n",
    "\n",
    "stud_grades_set.remove(\"F\")  # Removes 'F' from the set\n",
    "print(\"Updated stud_grades_set:\", stud_grades_set)\n",
    "\n"
   ]
  },
  {
   "cell_type": "markdown",
   "metadata": {
    "id": "wxMXywoRjNTD"
   },
   "source": [
    "Print the elements and the length of stud_grades_set"
   ]
  },
  {
   "cell_type": "code",
   "execution_count": 18,
   "metadata": {
    "id": "lS582g27jNTD",
    "outputId": "03e846de-16c3-4f74-caf5-b11bb2519b91"
   },
   "outputs": [
    {
     "name": "stdout",
     "output_type": "stream",
     "text": [
      "Elements of stud_grades_set: {'C', 'A', 'B'}\n",
      "Length of stud_grades_set: 3\n"
     ]
    }
   ],
   "source": [
    "\n",
    "\n",
    "stud_grades = [\"A\", \"A\", \"B\", \"C\", \"C\", \"F\"]\n",
    "stud_grades_set = set(stud_grades)\n",
    "\n",
    "# Remove 'F' for this example\n",
    "stud_grades_set.remove(\"F\")\n",
    "\n",
    "# Print elements and length\n",
    "print(\"Elements of stud_grades_set:\", stud_grades_set)\n",
    "print(\"Length of stud_grades_set:\", len(stud_grades_set))\n"
   ]
  },
  {
   "cell_type": "markdown",
   "metadata": {
    "id": "FctCYkNBjNTD"
   },
   "source": [
    "### Create colors = [‘red’,’blue’,’orange’], and fruits = [‘orange’,’grapes’,’apples’] "
   ]
  },
  {
   "cell_type": "code",
   "execution_count": 19,
   "metadata": {},
   "outputs": [
    {
     "name": "stdout",
     "output_type": "stream",
     "text": [
      "Colours Set: {'orange', 'blue', 'red'}\n",
      "Fruits Set: {'orange', 'grapes', 'apples'}\n"
     ]
    }
   ],
   "source": [
    "colours = {\"red\", \"blue\", \"orange\"}\n",
    "fruits = {\"orange\", \"grapes\", \"apples\"}\n",
    "\n",
    "print(\"Colours Set:\", colours)\n",
    "print(\"Fruits Set:\", fruits)\n"
   ]
  },
  {
   "cell_type": "markdown",
   "metadata": {
    "id": "kfIRtvphjNTE"
   },
   "source": [
    "Print color and fruits"
   ]
  },
  {
   "cell_type": "code",
   "execution_count": 20,
   "metadata": {
    "id": "q-gavK0-jNTE",
    "outputId": "6e0c3843-3efe-4e88-8a19-616e2cf4bdb3"
   },
   "outputs": [
    {
     "name": "stdout",
     "output_type": "stream",
     "text": [
      "Colours Set: {'orange', 'blue', 'red'}\n",
      "Fruits Set: {'orange', 'grapes', 'apples'}\n"
     ]
    }
   ],
   "source": [
    "\n",
    "colours = {\"red\", \"blue\", \"orange\"}\n",
    "fruits = {\"orange\", \"grapes\", \"apples\"}\n",
    "\n",
    "print(\"Colours Set:\", colours)\n",
    "print(\"Fruits Set:\", fruits)\n"
   ]
  },
  {
   "cell_type": "markdown",
   "metadata": {
    "id": "uMOTrWwSjNTE"
   },
   "source": [
    "Create colors_set, and fruits_set. (using set() ) and print them"
   ]
  },
  {
   "cell_type": "code",
   "execution_count": 21,
   "metadata": {},
   "outputs": [
    {
     "name": "stdout",
     "output_type": "stream",
     "text": [
      "Colours Set: {'orange', 'blue', 'red'}\n",
      "Fruits Set: {'orange', 'grapes', 'apples'}\n"
     ]
    }
   ],
   "source": [
    "# Creating the sets\n",
    "colours = {\"red\", \"blue\", \"orange\"}\n",
    "fruits = {\"orange\", \"grapes\", \"apples\"}\n",
    "\n",
    "# Printing the sets\n",
    "print(\"Colours Set:\", colours)\n",
    "print(\"Fruits Set:\", fruits)\n"
   ]
  },
  {
   "cell_type": "markdown",
   "metadata": {
    "id": "tW9fj0R1jNTE"
   },
   "source": [
    "Find the union of both the sets."
   ]
  },
  {
   "cell_type": "code",
   "execution_count": 22,
   "metadata": {
    "id": "oyskI_CTjNTE",
    "outputId": "4e89c025-10ef-405c-cbd4-f8c1ae2f92b4"
   },
   "outputs": [
    {
     "name": "stdout",
     "output_type": "stream",
     "text": [
      "Union of colours and fruits: {'orange', 'blue', 'apples', 'grapes', 'red'}\n"
     ]
    }
   ],
   "source": [
    "\n",
    "colours = {\"red\", \"blue\", \"orange\"}\n",
    "fruits = {\"orange\", \"grapes\", \"apples\"}\n",
    "\n",
    "# Method 1: Using union()\n",
    "union_set = colours.union(fruits)\n",
    "\n",
    "# Method 2: Using |\n",
    "# union_set = colours | fruits\n",
    "\n",
    "print(\"Union of colours and fruits:\", union_set)\n",
    "\n"
   ]
  },
  {
   "cell_type": "markdown",
   "metadata": {
    "id": "3yXYgYBLjNTF"
   },
   "source": [
    "Find the intersection of both the sets "
   ]
  },
  {
   "cell_type": "code",
   "execution_count": 23,
   "metadata": {
    "id": "3AzYqu5sjNTF",
    "outputId": "01ae145a-f15b-4a20-b9bc-9d8a25cf1679"
   },
   "outputs": [
    {
     "name": "stdout",
     "output_type": "stream",
     "text": [
      "Intersection of colours and fruits: {'orange'}\n"
     ]
    }
   ],
   "source": [
    "\n",
    "colours = {\"red\", \"blue\", \"orange\"}\n",
    "fruits = {\"orange\", \"grapes\", \"apples\"}\n",
    "\n",
    "# Method 1: Using intersection()\n",
    "intersection_set = colours.intersection(fruits)\n",
    "\n",
    "# Method 2: Using &\n",
    "# intersection_set = colours & fruits\n",
    "\n",
    "print(\"Intersection of colours and fruits:\", intersection_set)\n",
    "\n"
   ]
  },
  {
   "cell_type": "markdown",
   "metadata": {
    "id": "PuhlSjH_jNTF"
   },
   "source": [
    "Find the elements which are Fruits but not colors (using set.difference() )"
   ]
  },
  {
   "cell_type": "code",
   "execution_count": 24,
   "metadata": {
    "id": "gBaxHXrfjNTF",
    "outputId": "2178193f-aae5-4e59-acc1-8bce28e28143"
   },
   "outputs": [
    {
     "name": "stdout",
     "output_type": "stream",
     "text": [
      "Elements in fruits but not in colours: {'grapes', 'apples'}\n"
     ]
    }
   ],
   "source": [
    "\n",
    "colours = {\"red\", \"blue\", \"orange\"}\n",
    "fruits = {\"orange\", \"grapes\", \"apples\"}\n",
    "\n",
    "# Method 1: Using difference()\n",
    "difference_set = fruits.difference(colours)\n",
    "\n",
    "# Method 2: Using -\n",
    "# difference_set = fruits - colours\n",
    "\n",
    "print(\"Elements in fruits but not in colours:\", difference_set)\n",
    "\n"
   ]
  },
  {
   "cell_type": "code",
   "execution_count": 25,
   "metadata": {},
   "outputs": [
    {
     "name": "stdout",
     "output_type": "stream",
     "text": [
      "Elements in fruits but not in colours: {'grapes', 'apples'}\n"
     ]
    }
   ],
   "source": [
    "colours = {\"red\", \"blue\", \"orange\"}\n",
    "fruits = {\"orange\", \"grapes\", \"apples\"}\n",
    "\n",
    "# Using difference() to find elements in fruits but not in colours\n",
    "difference_set = fruits.difference(colours)\n",
    "\n",
    "# Alternatively, using the - operator\n",
    "# difference_set = fruits - colours\n",
    "\n",
    "print(\"Elements in fruits but not in colours:\", difference_set)\n"
   ]
  },
  {
   "cell_type": "markdown",
   "metadata": {
    "id": "hLZeBta3jNTF"
   },
   "source": [
    "## TUPLES"
   ]
  },
  {
   "cell_type": "markdown",
   "metadata": {
    "id": "Nerhdg66jNTF"
   },
   "source": [
    "### Create temp = [17, ’Virat’, 50.0]"
   ]
  },
  {
   "cell_type": "code",
   "execution_count": 26,
   "metadata": {},
   "outputs": [
    {
     "name": "stdout",
     "output_type": "stream",
     "text": [
      "temp tuple: (17, 'virat', 50.0)\n"
     ]
    }
   ],
   "source": [
    "temp = (17,\"virat\",50.0)\n",
    "#printing the tuple\n",
    "print(\"temp tuple:\",temp)"
   ]
  },
  {
   "cell_type": "markdown",
   "metadata": {
    "id": "C0IuMJFijNTG"
   },
   "source": [
    "Iterate through temp and print all the items in temp"
   ]
  },
  {
   "cell_type": "code",
   "execution_count": 27,
   "metadata": {
    "id": "CSKY_cgHjNTG",
    "outputId": "ec834f68-6713-4941-9fc3-dc0e59965222"
   },
   "outputs": [
    {
     "name": "stdout",
     "output_type": "stream",
     "text": [
      "17\n",
      "virat\n",
      "50.0\n"
     ]
    }
   ],
   "source": [
    "\n",
    "temp1 = (17, \"virat\", 50.0)\n",
    "\n",
    "# Iterating through temp1 and printing each item\n",
    "for item in temp1:\n",
    "    print(item)\n"
   ]
  },
  {
   "cell_type": "markdown",
   "metadata": {
    "id": "gI0kBGQ1jNTG"
   },
   "source": [
    "replace first element with 11 in temp"
   ]
  },
  {
   "cell_type": "code",
   "execution_count": 28,
   "metadata": {
    "id": "p6JCtyOBjNTG"
   },
   "outputs": [
    {
     "name": "stdout",
     "output_type": "stream",
     "text": [
      "Updated temp1 tuple: (17, 'virat', 50.0)\n"
     ]
    }
   ],
   "source": [
    "temp1 = (17, \"virat\", 50.0)\n",
    "\n",
    "# Creating a new tuple with the first element replaced\n",
    "temp1 = (17,) + temp1[1:]\n",
    "\n",
    "# Printing the updated temp1 tuple\n",
    "print(\"Updated temp1 tuple:\", temp1)\n"
   ]
  },
  {
   "cell_type": "markdown",
   "metadata": {
    "id": "JV3b34AdjNTG"
   },
   "source": [
    "Set temp1 = tuple(temp)"
   ]
  },
  {
   "cell_type": "code",
   "execution_count": 29,
   "metadata": {},
   "outputs": [
    {
     "name": "stdout",
     "output_type": "stream",
     "text": [
      "temp1: (17, 'virat', 50.0)\n"
     ]
    }
   ],
   "source": [
    "temp = (17, \"virat\", 50.0)\n",
    "\n",
    "# Creating a new tuple temp1 from temp\n",
    "temp1 = tuple(temp)\n",
    "\n",
    "# Printing temp1\n",
    "print(\"temp1:\", temp1)\n"
   ]
  },
  {
   "cell_type": "markdown",
   "metadata": {
    "id": "Z9LJWgBkjNTG"
   },
   "source": [
    "Iterate through temp1 and print all the items in temp1. "
   ]
  },
  {
   "cell_type": "code",
   "execution_count": 30,
   "metadata": {
    "id": "t0v-FZsNjNTH",
    "outputId": "7f98ae38-8bae-4687-f46b-31fb12ac5c6c"
   },
   "outputs": [
    {
     "name": "stdout",
     "output_type": "stream",
     "text": [
      "17\n",
      "virat\n",
      "50.0\n"
     ]
    }
   ],
   "source": [
    "\n",
    "\n",
    "temp1 = (17, \"virat\", 50.0)\n",
    "\n",
    "# Iterating through temp1 and printing each item\n",
    "for item in temp1:\n",
    "    print(item)\n"
   ]
  },
  {
   "cell_type": "markdown",
   "metadata": {
    "id": "A4FXMQDfjNTH"
   },
   "source": [
    "replace first element with 17 in temp1"
   ]
  },
  {
   "cell_type": "code",
   "execution_count": 31,
   "metadata": {
    "id": "eioDSdW8jNTH",
    "outputId": "bf108fa6-bcad-4684-dc24-b9efbfc357a8"
   },
   "outputs": [
    {
     "name": "stdout",
     "output_type": "stream",
     "text": [
      "Updated temp1 tuple: (17, 'virat', 50.0)\n"
     ]
    }
   ],
   "source": [
    "\n",
    "temp1 = (17, \"virat\", 50.0)\n",
    "\n",
    "# Creating a new tuple with the first element replaced\n",
    "temp1 = (17,) + temp1[1:]\n",
    "\n",
    "# Printing the updated temp1 tuple\n",
    "print(\"Updated temp1 tuple:\", temp1)\n"
   ]
  },
  {
   "cell_type": "markdown",
   "metadata": {
    "id": "IuGIObFZjNTH"
   },
   "source": [
    "<b>Oops!! You got an error. Hey Don't worry! Its because Once a tuple is created, you cannot change its values unlike list.</b>"
   ]
  },
  {
   "cell_type": "markdown",
   "metadata": {
    "id": "ExB_cM1ZjNTH"
   },
   "source": [
    "### Create city = (\"Bangalore\", 28.9949521, 72)"
   ]
  },
  {
   "cell_type": "code",
   "execution_count": 32,
   "metadata": {
    "id": "fWz52DjjjNTH"
   },
   "outputs": [
    {
     "name": "stdout",
     "output_type": "stream",
     "text": [
      "City tuple: ('banglore', 28.9949521, 72)\n"
     ]
    }
   ],
   "source": [
    "city = (\"banglore\", 28.9949521, 72)\n",
    "\n",
    "# Printing the tuple\n",
    "print(\"City tuple:\", city)\n"
   ]
  },
  {
   "cell_type": "markdown",
   "metadata": {
    "id": "v4ipyqXsjNTH"
   },
   "source": [
    "Print first element of city"
   ]
  },
  {
   "cell_type": "code",
   "execution_count": 33,
   "metadata": {
    "id": "KJHMuFk1jNTI",
    "outputId": "f3915b36-1f5b-4ac1-e2bb-a53f9ce142f8"
   },
   "outputs": [
    {
     "name": "stdout",
     "output_type": "stream",
     "text": [
      "First element of city: banglore\n"
     ]
    }
   ],
   "source": [
    "city = (\"banglore\", 28.9949521, 72)\n",
    "\n",
    "# Printing the first element\n",
    "print(\"First element of city:\", city[0])\n"
   ]
  },
  {
   "cell_type": "markdown",
   "metadata": {
    "id": "N5FoHg4ujNTI"
   },
   "source": [
    "Create city2 = (‘Chennai’, 30.01, 74)"
   ]
  },
  {
   "cell_type": "code",
   "execution_count": 34,
   "metadata": {
    "id": "fYuGqbDEjNTI"
   },
   "outputs": [
    {
     "name": "stdout",
     "output_type": "stream",
     "text": [
      "City2 tuple: ('chennai', 30.01, 74)\n"
     ]
    }
   ],
   "source": [
    "city2 = (\"chennai\", 30.01, 74)\n",
    "\n",
    "# Printing the tuple\n",
    "print(\"City2 tuple:\", city2)\n"
   ]
  },
  {
   "cell_type": "markdown",
   "metadata": {
    "id": "0gz-HACUjNTI"
   },
   "source": [
    "Create cities which consist of city and city2"
   ]
  },
  {
   "cell_type": "code",
   "execution_count": 35,
   "metadata": {
    "id": "5dTN1LQPjNTI"
   },
   "outputs": [
    {
     "name": "stdout",
     "output_type": "stream",
     "text": [
      "Cities tuple: (('banglore', 28.9949521, 72), ('chennai', 30.01, 74))\n"
     ]
    }
   ],
   "source": [
    "city = (\"banglore\", 28.9949521, 72)\n",
    "city2 = (\"chennai\", 30.01, 74)\n",
    "\n",
    "# Creating the cities tuple\n",
    "cities = (city, city2)\n",
    "\n",
    "# Printing the cities tuple\n",
    "print(\"Cities tuple:\", cities)\n"
   ]
  },
  {
   "cell_type": "markdown",
   "metadata": {
    "id": "He-teRi2jNTI"
   },
   "source": [
    "Print cities"
   ]
  },
  {
   "cell_type": "code",
   "execution_count": 36,
   "metadata": {
    "id": "ISySNfxGjNTI",
    "outputId": "bee231a2-a635-496f-b5b7-57795a0fd7ab"
   },
   "outputs": [
    {
     "name": "stdout",
     "output_type": "stream",
     "text": [
      "Cities tuple: (('banglore', 28.9949521, 72), ('chennai', 30.01, 74))\n"
     ]
    }
   ],
   "source": [
    "city = (\"banglore\", 28.9949521, 72)\n",
    "city2 = (\"chennai\", 30.01, 74)\n",
    "\n",
    "# Creating the cities tuple\n",
    "cities = (city, city2)\n",
    "\n",
    "# Printing the cities tuple\n",
    "print(\"Cities tuple:\", cities)\n"
   ]
  },
  {
   "cell_type": "markdown",
   "metadata": {
    "id": "brFx6-rtjNTJ"
   },
   "source": [
    "Print type of first element in cities"
   ]
  },
  {
   "cell_type": "code",
   "execution_count": 37,
   "metadata": {
    "id": "CmIifGybjNTJ",
    "outputId": "085cb498-1027-4ce6-8803-904d39050a97"
   },
   "outputs": [
    {
     "name": "stdout",
     "output_type": "stream",
     "text": [
      "Type of first element in cities: <class 'tuple'>\n"
     ]
    }
   ],
   "source": [
    "city = (\"banglore\", 28.9949521, 72)\n",
    "city2 = (\"chennai\", 30.01, 74)\n",
    "\n",
    "# Creating the cities tuple\n",
    "cities = (city, city2)\n",
    "\n",
    "# Printing the type of the first element in cities\n",
    "print(\"Type of first element in cities:\", type(cities[0]))\n"
   ]
  },
  {
   "cell_type": "markdown",
   "metadata": {
    "id": "jtk8J_yHjNTJ"
   },
   "source": [
    "print the type of cities\n"
   ]
  },
  {
   "cell_type": "code",
   "execution_count": 38,
   "metadata": {
    "id": "y9rdG29XjNTJ",
    "outputId": "2d1e34cb-5b76-44b4-e806-9287ee31fa87"
   },
   "outputs": [
    {
     "name": "stdout",
     "output_type": "stream",
     "text": [
      "Type of cities: <class 'tuple'>\n"
     ]
    }
   ],
   "source": [
    "city = (\"banglore\", 28.9949521, 72)\n",
    "city2 = (\"chennai\", 30.01, 74)\n",
    "\n",
    "# Creating the cities tuple\n",
    "cities = (city, city2)\n",
    "\n",
    "# Printing the type of the cities tuple\n",
    "print(\"Type of cities:\", type(cities))\n"
   ]
  },
  {
   "cell_type": "markdown",
   "metadata": {
    "id": "uXHSadWqjNTJ"
   },
   "source": [
    "Hey that implies you made a nested tuples!!"
   ]
  },
  {
   "cell_type": "markdown",
   "metadata": {
    "id": "zViY-S_djNTJ"
   },
   "source": [
    "## DICTIONARY"
   ]
  },
  {
   "cell_type": "markdown",
   "metadata": {
    "id": "4NjUxRaZjNTK"
   },
   "source": [
    "### Create a dictionary d = {\"actor\":\"amir\",\"animal\":\"cat\",\"earth\":2,\"list\":[23,32,12]}"
   ]
  },
  {
   "cell_type": "code",
   "execution_count": 39,
   "metadata": {
    "id": "UCtEFPI4jNTK"
   },
   "outputs": [
    {
     "name": "stdout",
     "output_type": "stream",
     "text": [
      "Dictionary d: {'actor': 'amir', 'cat': 'earth', '2 list': (23, 32, 12)}\n"
     ]
    }
   ],
   "source": [
    "d = {\n",
    "    \"actor\": \"amir\",\n",
    "    \"cat\": \"earth\",\n",
    "    \"2 list\": (23, 32, 12)\n",
    "}\n",
    "\n",
    "# Printing the dictionary\n",
    "print(\"Dictionary d:\", d)\n"
   ]
  },
  {
   "cell_type": "markdown",
   "metadata": {
    "id": "OamenDk8jNTK"
   },
   "source": [
    "Print the value of d[0]"
   ]
  },
  {
   "cell_type": "code",
   "execution_count": 40,
   "metadata": {
    "id": "gion3awcjNTK",
    "outputId": "59a88b33-f80a-4448-8c92-262c242ca689"
   },
   "outputs": [
    {
     "ename": "TypeError",
     "evalue": "'dict' object is not callable",
     "output_type": "error",
     "traceback": [
      "\u001b[31m---------------------------------------------------------------------------\u001b[39m",
      "\u001b[31mTypeError\u001b[39m                                 Traceback (most recent call last)",
      "\u001b[36mCell\u001b[39m\u001b[36m \u001b[39m\u001b[32mIn[40]\u001b[39m\u001b[32m, line 1\u001b[39m\n\u001b[32m----> \u001b[39m\u001b[32m1\u001b[39m \u001b[38;5;28mprint\u001b[39m(\u001b[43md\u001b[49m\u001b[43m(\u001b[49m\u001b[32;43m0\u001b[39;49m\u001b[43m)\u001b[49m)\n",
      "\u001b[31mTypeError\u001b[39m: 'dict' object is not callable"
     ]
    }
   ],
   "source": [
    "print(d(0))\n"
   ]
  },
  {
   "cell_type": "markdown",
   "metadata": {
    "id": "XYtrrUigjNTK"
   },
   "source": [
    "<b>Oops!! again an error. again a fun fact. Dictionary return the value for key if key is in the dictionary, else throws KeyError\n",
    "and we don't have key 0 here :( </b>"
   ]
  },
  {
   "cell_type": "markdown",
   "metadata": {
    "id": "62VXYnw1jNTK"
   },
   "source": [
    "Store the value of d[‘actor’] to a new variable actor."
   ]
  },
  {
   "cell_type": "code",
   "execution_count": 41,
   "metadata": {
    "id": "kkBfNz81jNTK"
   },
   "outputs": [
    {
     "name": "stdout",
     "output_type": "stream",
     "text": [
      "Value of actor: amir\n"
     ]
    }
   ],
   "source": [
    "\n",
    "d = {\n",
    "    \"actor\": \"amir\",\n",
    "    \"cat\": \"earth\",\n",
    "    \"2 list\": (23, 32, 12)\n",
    "}\n",
    "\n",
    "# Storing the value of key \"actor\" in a new variable\n",
    "actor = d[\"actor\"]\n",
    "\n",
    "# Printing the new variable\n",
    "print(\"Value of actor:\", actor)\n"
   ]
  },
  {
   "cell_type": "markdown",
   "metadata": {
    "id": "uFfuF569jNTL"
   },
   "source": [
    "Print the type of actor"
   ]
  },
  {
   "cell_type": "code",
   "execution_count": 42,
   "metadata": {
    "id": "bKbFXBxyjNTL",
    "outputId": "ec200684-a8ac-403e-9aea-ca06a015a12e"
   },
   "outputs": [
    {
     "name": "stdout",
     "output_type": "stream",
     "text": [
      "Type of actor: <class 'str'>\n"
     ]
    }
   ],
   "source": [
    "d = {\n",
    "    \"actor\": \"amir\",\n",
    "    \"cat\": \"earth\",\n",
    "    \"2 list\": (23, 32, 12)\n",
    "}\n",
    "\n",
    "# Storing the value of key \"actor\" in a new variable\n",
    "actor = d[\"actor\"]\n",
    "\n",
    "# Printing the type of actor\n",
    "print(\"Type of actor:\", type(actor))\n"
   ]
  },
  {
   "cell_type": "markdown",
   "metadata": {
    "id": "y549qN04jNTL"
   },
   "source": [
    "Store the value of d[‘list’] in new variable List. "
   ]
  },
  {
   "cell_type": "code",
   "execution_count": 43,
   "metadata": {
    "id": "I7GyOK8DjNTL"
   },
   "outputs": [
    {
     "name": "stdout",
     "output_type": "stream",
     "text": [
      "Value of my_list: (23, 32, 12)\n"
     ]
    }
   ],
   "source": [
    "d = {\n",
    "    \"actor\": \"amir\",\n",
    "    \"cat\": \"earth\",\n",
    "    \"2 list\": (23, 32, 12)\n",
    "}\n",
    "\n",
    "# Store the value of the key \"2 list\" in a new variable\n",
    "my_list = d[\"2 list\"]\n",
    "\n",
    "# Print the variable\n",
    "print(\"Value of my_list:\", my_list)\n"
   ]
  },
  {
   "cell_type": "markdown",
   "metadata": {
    "id": "Ul1YMiuNjNTL"
   },
   "source": [
    "Print the type of List. "
   ]
  },
  {
   "cell_type": "code",
   "execution_count": 44,
   "metadata": {
    "id": "V0VdG9y_jNTL",
    "outputId": "ca19430d-bd1d-456a-cb91-c156f73fe9b1"
   },
   "outputs": [
    {
     "name": "stdout",
     "output_type": "stream",
     "text": [
      "Type of my_list: <class 'tuple'>\n"
     ]
    }
   ],
   "source": [
    "d = {\n",
    "    \"actor\": \"amir\",\n",
    "    \"cat\": \"earth\",\n",
    "    \"2 list\": (23, 32, 12)\n",
    "}\n",
    "\n",
    "# Store the value of the key \"2 list\" in a new variable\n",
    "my_list = d[\"2 list\"]\n",
    "\n",
    "# Print the type of my_list\n",
    "print(\"Type of my_list:\", type(my_list))\n"
   ]
  },
  {
   "cell_type": "markdown",
   "metadata": {
    "id": "A0CEMABhjNTL"
   },
   "source": [
    "Create d1 = { ‘singer’ : ‘Kr$na’ , ‘album’: ‘Still here’, ‘genre’ : ‘hip-hop’}"
   ]
  },
  {
   "cell_type": "code",
   "execution_count": 45,
   "metadata": {
    "id": "FCGCw5FEjNTL"
   },
   "outputs": [
    {
     "name": "stdout",
     "output_type": "stream",
     "text": [
      "d1: {'singer': 'kr&na', 'album': 'still here', 'genre': 'hip hop'}\n"
     ]
    }
   ],
   "source": [
    "d1 = {\n",
    "    \"singer\": \"kr&na\",\n",
    "    \"album\": \"still here\",\n",
    "    \"genre\": \"hip hop\"\n",
    "}\n",
    "\n",
    "# Print the dictionary\n",
    "print(\"d1:\", d1)\n"
   ]
  },
  {
   "cell_type": "markdown",
   "metadata": {
    "id": "ybGIILrLjNTM"
   },
   "source": [
    "Merge d1 into d."
   ]
  },
  {
   "cell_type": "code",
   "execution_count": 46,
   "metadata": {
    "id": "UmDbbQJPjNTM"
   },
   "outputs": [
    {
     "name": "stdout",
     "output_type": "stream",
     "text": [
      "Merged dictionary d: {'actor': 'amir', 'cat': 'earth', '2 list': (23, 32, 12), 'singer': 'kr&na', 'album': 'still here', 'genre': 'hip hop'}\n"
     ]
    }
   ],
   "source": [
    "# Existing dictionaries\n",
    "d = {\n",
    "    \"actor\": \"amir\",\n",
    "    \"cat\": \"earth\",\n",
    "    \"2 list\": (23, 32, 12)\n",
    "}\n",
    "\n",
    "d1 = {\n",
    "    \"singer\": \"kr&na\",\n",
    "    \"album\": \"still here\",\n",
    "    \"genre\": \"hip hop\"\n",
    "}\n",
    "\n",
    "# Merging d1 into d\n",
    "d.update(d1)\n",
    "\n",
    "# Print the updated dictionary d\n",
    "print(\"Merged dictionary d:\", d)\n"
   ]
  },
  {
   "cell_type": "markdown",
   "metadata": {
    "id": "jhAPX45ZjNTM"
   },
   "source": [
    "print d"
   ]
  },
  {
   "cell_type": "code",
   "execution_count": 47,
   "metadata": {
    "id": "785S26ryjNTM",
    "outputId": "82043717-4c5e-4622-8e11-f13d74dd5cc4"
   },
   "outputs": [
    {
     "name": "stdout",
     "output_type": "stream",
     "text": [
      "Dictionary d: {'actor': 'amir', 'cat': 'earth', '2 list': (23, 32, 12), 'singer': 'kr&na', 'album': 'still here', 'genre': 'hip hop'}\n"
     ]
    }
   ],
   "source": [
    "# Assuming d1 is already merged into d\n",
    "print(\"Dictionary d:\", d)\n"
   ]
  },
  {
   "cell_type": "markdown",
   "metadata": {
    "id": "9E852mY2jNTM"
   },
   "source": [
    "Print all the keys in d"
   ]
  },
  {
   "cell_type": "code",
   "execution_count": 48,
   "metadata": {
    "id": "7K843OrLjNTM",
    "outputId": "4336a57d-eabe-47a7-d910-82c5c8614754"
   },
   "outputs": [
    {
     "name": "stdout",
     "output_type": "stream",
     "text": [
      "Keys in d: dict_keys(['actor', 'cat', '2 list', 'singer', 'album', 'genre'])\n"
     ]
    }
   ],
   "source": [
    "print(\"Keys in d:\", d.keys())\n"
   ]
  },
  {
   "cell_type": "markdown",
   "metadata": {
    "id": "fiuzxbGkjNTN"
   },
   "source": [
    "Print all the values in d"
   ]
  },
  {
   "cell_type": "code",
   "execution_count": 49,
   "metadata": {
    "id": "Pyhh6r0pjNTN",
    "outputId": "8d13b380-1e1f-418c-84e6-ac0638a056e2"
   },
   "outputs": [
    {
     "name": "stdout",
     "output_type": "stream",
     "text": [
      "Values in d: dict_values(['amir', 'earth', (23, 32, 12), 'kr&na', 'still here', 'hip hop'])\n"
     ]
    }
   ],
   "source": [
    "print(\"Values in d:\", d.values())\n"
   ]
  },
  {
   "cell_type": "markdown",
   "metadata": {
    "id": "XSoe8GWmjNTN"
   },
   "source": [
    "Iterate over d, and print each key, value pair as this - (actor ----> amir)"
   ]
  },
  {
   "cell_type": "code",
   "execution_count": 50,
   "metadata": {
    "id": "O0iW9kiqjNTO",
    "outputId": "d9ab5c07-3de4-4939-dd9e-d6ff75c9aa07"
   },
   "outputs": [
    {
     "name": "stdout",
     "output_type": "stream",
     "text": [
      "actor.... amir\n",
      "cat.... earth\n",
      "2 list.... (23, 32, 12)\n",
      "singer.... kr&na\n",
      "album.... still here\n",
      "genre.... hip hop\n"
     ]
    }
   ],
   "source": [
    "d = {\n",
    "    \"actor\": \"amir\",\n",
    "    \"cat\": \"earth\",\n",
    "    \"2 list\": (23, 32, 12),\n",
    "    \"singer\": \"kr&na\",\n",
    "    \"album\": \"still here\",\n",
    "    \"genre\": \"hip hop\"\n",
    "}\n",
    "\n",
    "# Iterating over the dictionary and printing each key-value pair\n",
    "for key, value in d.items():\n",
    "    print(f\"{key}.... {value}\")\n"
   ]
  },
  {
   "cell_type": "markdown",
   "metadata": {
    "id": "Hhzm-EIsjNTO"
   },
   "source": [
    "count the number of occurences of charachters in string named \"sent\" using dictionary and print the same.\n"
   ]
  },
  {
   "cell_type": "code",
   "execution_count": 51,
   "metadata": {
    "id": "IvRlvUAljNTP",
    "outputId": "40f08e65-b884-4b00-aaf4-2cacd1083752"
   },
   "outputs": [
    {
     "name": "stdout",
     "output_type": "stream",
     "text": [
      "Character count: {'h': 1, 'e': 1, 'l': 3, 'o': 2, ' ': 1, 'w': 1, 'r': 1, 'd': 1}\n"
     ]
    }
   ],
   "source": [
    "\n",
    "\n",
    "# Input string\n",
    "text = \"hello world\"\n",
    "\n",
    "# Initialize an empty dictionary to store the counts\n",
    "char_count = {}\n",
    "\n",
    "# Iterate over each character in the string\n",
    "for char in text:\n",
    "    if char in char_count:\n",
    "        # If the character is already in the dictionary, increment its count\n",
    "        char_count[char] += 1\n",
    "    else:\n",
    "        # If the character is not in the dictionary, add it with count 1\n",
    "        char_count[char] = 1\n",
    "\n",
    "# Print the character count dictionary\n",
    "print(\"Character count:\", char_count)\n"
   ]
  },
  {
   "cell_type": "code",
   "execution_count": null,
   "metadata": {
    "id": "ebNwyxUujNTP"
   },
   "outputs": [],
   "source": []
  }
 ],
 "metadata": {
  "colab": {
   "collapsed_sections": [],
   "provenance": []
  },
  "kernelspec": {
   "display_name": "Python 3",
   "language": "python",
   "name": "python3"
  },
  "language_info": {
   "codemirror_mode": {
    "name": "ipython",
    "version": 3
   },
   "file_extension": ".py",
   "mimetype": "text/x-python",
   "name": "python",
   "nbconvert_exporter": "python",
   "pygments_lexer": "ipython3",
   "version": "3.13.3"
  }
 },
 "nbformat": 4,
 "nbformat_minor": 5
}
